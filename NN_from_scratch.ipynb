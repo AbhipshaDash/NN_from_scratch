{
  "nbformat": 4,
  "nbformat_minor": 0,
  "metadata": {
    "colab": {
      "provenance": []
    },
    "kernelspec": {
      "name": "python3",
      "display_name": "Python 3"
    },
    "language_info": {
      "name": "python"
    }
  },
  "cells": [
    {
      "cell_type": "code",
      "execution_count": 2,
      "metadata": {
        "id": "Y0WewWdOhgRO"
      },
      "outputs": [],
      "source": [
        "import numpy as np\n",
        "import pandas as pd\n",
        "from matplotlib import pyplot as plt\n",
        "\n",
        "data = pd.read_csv('/content/sample_data/mnist_train_small.csv')"
      ]
    },
    {
      "cell_type": "code",
      "source": [
        "data = np.array(data)\n",
        "m, n = data.shape\n",
        "np.random.shuffle(data) # shuffle before splitting into dev and training sets\n",
        "\n",
        "data_dev = data[0:1000].T\n",
        "Y_dev = data_dev[0]\n",
        "X_dev = data_dev[1:n]\n",
        "X_dev = X_dev / 255.\n",
        "\n",
        "data_train = data[1000:m].T\n",
        "Y_train = data_train[0]\n",
        "X_train = data_train[1:n]\n",
        "X_train = X_train / 255.\n",
        "_,m_train = X_train.shape"
      ],
      "metadata": {
        "id": "A22hkELIhtqa"
      },
      "execution_count": 3,
      "outputs": []
    },
    {
      "cell_type": "code",
      "source": [
        "Y_train\n"
      ],
      "metadata": {
        "colab": {
          "base_uri": "https://localhost:8080/"
        },
        "id": "oDEooUWDhzPw",
        "outputId": "eaae9c5e-88f0-4a50-f43e-9e68650e1660"
      },
      "execution_count": 4,
      "outputs": [
        {
          "output_type": "execute_result",
          "data": {
            "text/plain": [
              "array([8, 3, 6, ..., 7, 4, 2])"
            ]
          },
          "metadata": {},
          "execution_count": 4
        }
      ]
    },
    {
      "cell_type": "code",
      "source": [
        "def init_params():\n",
        "    W1 = np.random.rand(10, 784) - 0.5\n",
        "    b1 = np.random.rand(10, 1) - 0.5\n",
        "    W2 = np.random.rand(10, 10) - 0.5\n",
        "    b2 = np.random.rand(10, 1) - 0.5\n",
        "    return W1, b1, W2, b2\n",
        "\n",
        "def ReLU(Z):\n",
        "    return np.maximum(Z, 0)\n",
        "\n",
        "def softmax(Z):\n",
        "    A = np.exp(Z) / sum(np.exp(Z))\n",
        "    return A\n",
        "\n",
        "def forward_prop(W1, b1, W2, b2, X):\n",
        "    Z1 = W1.dot(X) + b1\n",
        "    A1 = ReLU(Z1)\n",
        "    Z2 = W2.dot(A1) + b2\n",
        "    A2 = softmax(Z2)\n",
        "    return Z1, A1, Z2, A2\n",
        "\n",
        "def ReLU_deriv(Z):\n",
        "    return Z > 0\n",
        "\n",
        "def one_hot(Y):\n",
        "    one_hot_Y = np.zeros((Y.size, Y.max() + 1))\n",
        "    one_hot_Y[np.arange(Y.size), Y] = 1\n",
        "    one_hot_Y = one_hot_Y.T\n",
        "    return one_hot_Y\n",
        "\n",
        "def backward_prop(Z1, A1, Z2, A2, W1, W2, X, Y):\n",
        "    one_hot_Y = one_hot(Y)\n",
        "    dZ2 = A2 - one_hot_Y\n",
        "    dW2 = 1 / m * dZ2.dot(A1.T)\n",
        "    db2 = 1 / m * np.sum(dZ2)\n",
        "    dZ1 = W2.T.dot(dZ2) * ReLU_deriv(Z1)\n",
        "    dW1 = 1 / m * dZ1.dot(X.T)\n",
        "    db1 = 1 / m * np.sum(dZ1)\n",
        "    return dW1, db1, dW2, db2\n",
        "\n",
        "def update_params(W1, b1, W2, b2, dW1, db1, dW2, db2, alpha):\n",
        "    W1 = W1 - alpha * dW1\n",
        "    b1 = b1 - alpha * db1\n",
        "    W2 = W2 - alpha * dW2\n",
        "    b2 = b2 - alpha * db2\n",
        "    return W1, b1, W2, b2"
      ],
      "metadata": {
        "id": "Y0gninWbiAb-"
      },
      "execution_count": 5,
      "outputs": []
    },
    {
      "cell_type": "code",
      "source": [
        "def get_predictions(A2):\n",
        "    return np.argmax(A2, 0)\n",
        "\n",
        "def get_accuracy(predictions, Y):\n",
        "    print(predictions, Y)\n",
        "    return np.sum(predictions == Y) / Y.size\n",
        "\n",
        "def gradient_descent(X, Y, alpha, iterations):\n",
        "    W1, b1, W2, b2 = init_params()\n",
        "    for i in range(iterations):\n",
        "        Z1, A1, Z2, A2 = forward_prop(W1, b1, W2, b2, X)\n",
        "        dW1, db1, dW2, db2 = backward_prop(Z1, A1, Z2, A2, W1, W2, X, Y)\n",
        "        W1, b1, W2, b2 = update_params(W1, b1, W2, b2, dW1, db1, dW2, db2, alpha)\n",
        "        if i % 10 == 0:\n",
        "            print(\"Iteration: \", i)\n",
        "            predictions = get_predictions(A2)\n",
        "            print(get_accuracy(predictions, Y))\n",
        "    return W1, b1, W2, b2"
      ],
      "metadata": {
        "id": "Wm9JNYtDiJlX"
      },
      "execution_count": 6,
      "outputs": []
    },
    {
      "cell_type": "code",
      "source": [
        "W1, b1, W2, b2 = gradient_descent(X_train, Y_train, 0.10, 500)"
      ],
      "metadata": {
        "colab": {
          "base_uri": "https://localhost:8080/"
        },
        "id": "rBCf0ZDeiNdO",
        "outputId": "8725bbf4-f33a-4527-ba46-7a21deab3495"
      },
      "execution_count": 7,
      "outputs": [
        {
          "output_type": "stream",
          "name": "stdout",
          "text": [
            "Iteration:  0\n",
            "[1 1 8 ... 1 1 1] [8 3 6 ... 7 4 2]\n",
            "0.1251118479919996\n",
            "Iteration:  10\n",
            "[1 2 6 ... 2 3 1] [8 3 6 ... 7 4 2]\n",
            "0.20001052686983525\n",
            "Iteration:  20\n",
            "[1 0 6 ... 2 3 1] [8 3 6 ... 7 4 2]\n",
            "0.2556976682983315\n",
            "Iteration:  30\n",
            "[1 0 6 ... 0 3 1] [8 3 6 ... 7 4 2]\n",
            "0.3043844412863835\n",
            "Iteration:  40\n",
            "[1 0 6 ... 0 3 1] [8 3 6 ... 7 4 2]\n",
            "0.34001789567871993\n",
            "Iteration:  50\n",
            "[1 0 6 ... 0 3 1] [8 3 6 ... 7 4 2]\n",
            "0.38702036949313123\n",
            "Iteration:  60\n",
            "[1 2 6 ... 0 3 1] [8 3 6 ... 7 4 2]\n",
            "0.43644402336965105\n",
            "Iteration:  70\n",
            "[1 5 6 ... 0 4 1] [8 3 6 ... 7 4 2]\n",
            "0.4747091952208011\n",
            "Iteration:  80\n",
            "[1 5 6 ... 0 4 1] [8 3 6 ... 7 4 2]\n",
            "0.4995526080320017\n",
            "Iteration:  90\n",
            "[1 5 6 ... 0 4 1] [8 3 6 ... 7 4 2]\n",
            "0.5252381704300226\n",
            "Iteration:  100\n",
            "[1 5 6 ... 0 4 1] [8 3 6 ... 7 4 2]\n",
            "0.5513448076214538\n",
            "Iteration:  110\n",
            "[1 5 6 ... 0 4 1] [8 3 6 ... 7 4 2]\n",
            "0.570714248118322\n",
            "Iteration:  120\n",
            "[8 5 6 ... 0 4 1] [8 3 6 ... 7 4 2]\n",
            "0.5921890625822411\n",
            "Iteration:  130\n",
            "[8 5 6 ... 0 4 1] [8 3 6 ... 7 4 2]\n",
            "0.6185062371703773\n",
            "Iteration:  140\n",
            "[8 5 6 ... 0 4 1] [8 3 6 ... 7 4 2]\n",
            "0.6434549186799305\n",
            "Iteration:  150\n",
            "[8 5 6 ... 0 4 1] [8 3 6 ... 7 4 2]\n",
            "0.6659297857781988\n",
            "Iteration:  160\n",
            "[8 5 6 ... 0 4 1] [8 3 6 ... 7 4 2]\n",
            "0.685088688878362\n",
            "Iteration:  170\n",
            "[8 5 6 ... 0 4 1] [8 3 6 ... 7 4 2]\n",
            "0.7018790462655929\n",
            "Iteration:  180\n",
            "[8 5 6 ... 0 4 1] [8 3 6 ... 7 4 2]\n",
            "0.7166692983841255\n",
            "Iteration:  190\n",
            "[8 3 6 ... 5 4 2] [8 3 6 ... 7 4 2]\n",
            "0.7283014895520817\n",
            "Iteration:  200\n",
            "[8 3 6 ... 5 4 2] [8 3 6 ... 7 4 2]\n",
            "0.7380388441496921\n",
            "Iteration:  210\n",
            "[8 3 6 ... 5 4 2] [8 3 6 ... 7 4 2]\n",
            "0.7476182956997737\n",
            "Iteration:  220\n",
            "[8 3 6 ... 5 4 2] [8 3 6 ... 7 4 2]\n",
            "0.757145112900679\n",
            "Iteration:  230\n",
            "[8 3 6 ... 5 4 2] [8 3 6 ... 7 4 2]\n",
            "0.7644612874361808\n",
            "Iteration:  240\n",
            "[8 3 6 ... 5 4 2] [8 3 6 ... 7 4 2]\n",
            "0.7715669245749777\n",
            "Iteration:  250\n",
            "[8 3 6 ... 5 4 2] [8 3 6 ... 7 4 2]\n",
            "0.7766724564450761\n",
            "Iteration:  260\n",
            "[8 3 6 ... 5 4 2] [8 3 6 ... 7 4 2]\n",
            "0.7825148692036423\n",
            "Iteration:  270\n",
            "[8 3 6 ... 5 4 2] [8 3 6 ... 7 4 2]\n",
            "0.7881993789146797\n",
            "Iteration:  280\n",
            "[8 3 6 ... 5 4 2] [8 3 6 ... 7 4 2]\n",
            "0.7925680298963104\n",
            "Iteration:  290\n",
            "[8 3 6 ... 5 4 2] [8 3 6 ... 7 4 2]\n",
            "0.7968840465287647\n",
            "Iteration:  300\n",
            "[8 3 6 ... 5 4 2] [8 3 6 ... 7 4 2]\n",
            "0.8009895257645139\n",
            "Iteration:  310\n",
            "[8 3 6 ... 5 4 2] [8 3 6 ... 7 4 2]\n",
            "0.8052002736986157\n",
            "Iteration:  320\n",
            "[8 3 6 ... 5 4 2] [8 3 6 ... 7 4 2]\n",
            "0.8092531185851887\n",
            "Iteration:  330\n",
            "[8 3 6 ... 5 4 2] [8 3 6 ... 7 4 2]\n",
            "0.8131480604242328\n",
            "Iteration:  340\n",
            "[8 3 6 ... 5 4 2] [8 3 6 ... 7 4 2]\n",
            "0.8163587557239854\n",
            "Iteration:  350\n",
            "[8 3 6 ... 5 4 2] [8 3 6 ... 7 4 2]\n",
            "0.8199905258171483\n",
            "Iteration:  360\n",
            "[8 3 6 ... 5 4 2] [8 3 6 ... 7 4 2]\n",
            "0.8232538554660772\n",
            "Iteration:  370\n",
            "[8 3 6 ... 5 4 2] [8 3 6 ... 7 4 2]\n",
            "0.8259382072740671\n",
            "Iteration:  380\n",
            "[8 3 6 ... 5 4 2] [8 3 6 ... 7 4 2]\n",
            "0.8285699247328807\n",
            "Iteration:  390\n",
            "[8 3 6 ... 5 4 2] [8 3 6 ... 7 4 2]\n",
            "0.8318332543818096\n",
            "Iteration:  400\n",
            "[8 3 6 ... 5 4 2] [8 3 6 ... 7 4 2]\n",
            "0.834622874888152\n",
            "Iteration:  410\n",
            "[8 3 6 ... 5 4 2] [8 3 6 ... 7 4 2]\n",
            "0.8359913679667351\n",
            "Iteration:  420\n",
            "[8 3 6 ... 5 4 2] [8 3 6 ... 7 4 2]\n",
            "0.8378862045370808\n",
            "Iteration:  430\n",
            "[8 3 6 ... 5 4 2] [8 3 6 ... 7 4 2]\n",
            "0.8395705037107216\n",
            "Iteration:  440\n",
            "[8 3 6 ... 5 4 2] [8 3 6 ... 7 4 2]\n",
            "0.8416758776777725\n",
            "Iteration:  450\n",
            "[8 3 6 ... 5 4 2] [8 3 6 ... 7 4 2]\n",
            "0.8438338859939997\n",
            "Iteration:  460\n",
            "[8 3 6 ... 5 4 2] [8 3 6 ... 7 4 2]\n",
            "0.8455708195168167\n",
            "Iteration:  470\n",
            "[8 3 6 ... 5 4 2] [8 3 6 ... 7 4 2]\n",
            "0.8472024843412811\n",
            "Iteration:  480\n",
            "[8 3 6 ... 5 4 2] [8 3 6 ... 7 4 2]\n",
            "0.8482025369756303\n",
            "Iteration:  490\n",
            "[8 3 6 ... 5 4 2] [8 3 6 ... 7 4 2]\n",
            "0.8495183957050371\n"
          ]
        }
      ]
    },
    {
      "cell_type": "code",
      "source": [
        "def make_predictions(X, W1, b1, W2, b2):\n",
        "    _, _, _, A2 = forward_prop(W1, b1, W2, b2, X)\n",
        "    predictions = get_predictions(A2)\n",
        "    return predictions\n",
        "\n",
        "def test_prediction(index, W1, b1, W2, b2):\n",
        "    current_image = X_train[:, index, None]\n",
        "    prediction = make_predictions(X_train[:, index, None], W1, b1, W2, b2)\n",
        "    label = Y_train[index]\n",
        "    print(\"Prediction: \", prediction)\n",
        "    print(\"Label: \", label)\n",
        "\n",
        "    current_image = current_image.reshape((28, 28)) * 255\n",
        "    plt.gray()\n",
        "    plt.imshow(current_image, interpolation='nearest')\n",
        "    plt.show()"
      ],
      "metadata": {
        "id": "UL0DYlcdiPrJ"
      },
      "execution_count": 8,
      "outputs": []
    },
    {
      "cell_type": "code",
      "source": [
        "test_prediction(0, W1, b1, W2, b2)\n",
        "test_prediction(1, W1, b1, W2, b2)\n",
        "test_prediction(2, W1, b1, W2, b2)\n",
        "test_prediction(3, W1, b1, W2, b2)"
      ],
      "metadata": {
        "colab": {
          "base_uri": "https://localhost:8080/",
          "height": 1000
        },
        "id": "XjGz3dihibnC",
        "outputId": "bb318bc4-19ef-4fff-b2ec-6ead4ab0bc68"
      },
      "execution_count": 12,
      "outputs": [
        {
          "output_type": "stream",
          "name": "stdout",
          "text": [
            "Prediction:  [8]\n",
            "Label:  8\n"
          ]
        },
        {
          "output_type": "display_data",
          "data": {
            "text/plain": [
              "<Figure size 640x480 with 1 Axes>"
            ],
            "image/png": "[encoded data removed]"
          },
          "metadata": {}
        },
        {
          "output_type": "stream",
          "name": "stdout",
          "text": [
            "Prediction:  [3]\n",
            "Label:  3\n"
          ]
        },
        {
          "output_type": "display_data",
          "data": {
            "text/plain": [
              "<Figure size 640x480 with 1 Axes>"
            ],
            "image/png": "[encoded data removed]"
          },
          "metadata": {}
        },
        {
          "output_type": "stream",
          "name": "stdout",
          "text": [
            "Prediction:  [6]\n",
            "Label:  6\n"
          ]
        },
        {
          "output_type": "display_data",
          "data": {
            "text/plain": [
              "<Figure size 640x480 with 1 Axes>"
            ],
            "image/png": "[encoded data removed]"
          },
          "metadata": {}
        },
        {
          "output_type": "stream",
          "name": "stdout",
          "text": [
            "Prediction:  [8]\n",
            "Label:  8\n"
          ]
        },
        {
          "output_type": "display_data",
          "data": {
            "text/plain": [
              "<Figure size 640x480 with 1 Axes>"
            ],
            "image/png": "[encoded data removed]"
          },
          "metadata": {}
        }
      ]
    },
    {
      "cell_type": "code",
      "source": [
        "dev_predictions = make_predictions(X_dev, W1, b1, W2, b2)\n",
        "get_accuracy(dev_predictions, Y_dev)\n"
      ],
      "metadata": {
        "colab": {
          "base_uri": "https://localhost:8080/"
        },
        "id": "3Ycd9Ecciv1R",
        "outputId": "45b9a04d-1d3d-4b0d-9cb9-d8070d50981e"
      },
      "execution_count": 10,
      "outputs": [
        {
          "output_type": "stream",
          "name": "stdout",
          "text": [
            "[0 6 6 4 4 1 9 9 6 0 6 0 1 6 0 2 8 3 8 3 9 5 0 7 0 9 9 5 2 3 3 5 0 7 3 5 9\n",
            " 7 2 7 2 1 9 5 5 1 3 8 2 4 3 8 6 9 3 2 6 7 7 7 7 9 1 3 4 3 4 6 8 6 1 1 7 6\n",
            " 8 9 4 7 1 1 9 4 1 5 7 4 8 6 0 7 5 6 8 7 1 4 4 5 8 7 1 3 0 3 5 9 8 9 5 5 0\n",
            " 6 9 9 8 4 6 0 1 7 4 4 5 1 0 2 6 4 5 7 3 0 4 6 1 9 0 9 6 2 1 0 6 6 5 1 7 2\n",
            " 0 9 1 9 0 3 4 0 5 9 0 7 4 9 2 2 4 2 6 4 6 5 4 1 1 6 8 4 7 5 0 7 6 2 6 4 1\n",
            " 5 3 4 2 6 4 3 7 8 6 9 0 1 2 6 4 3 2 1 9 1 4 2 6 8 9 2 8 7 3 1 0 2 2 4 7 1\n",
            " 0 7 9 4 2 3 3 5 0 5 1 9 5 0 6 6 3 9 2 1 9 3 8 6 8 3 6 1 2 6 8 8 3 0 6 7 9\n",
            " 0 6 0 4 3 2 6 2 9 1 0 6 3 8 6 4 1 7 5 0 8 2 5 6 3 1 1 6 7 3 9 6 8 8 3 7 6\n",
            " 9 5 6 2 4 0 5 2 3 2 1 6 0 7 7 6 4 9 8 2 7 7 4 0 5 4 7 6 2 5 0 6 8 8 1 1 4\n",
            " 1 9 0 8 9 0 1 1 1 4 5 7 1 5 2 9 4 1 8 7 9 4 4 2 0 4 5 2 9 2 5 3 9 1 3 9 7\n",
            " 1 0 7 9 0 2 7 1 4 0 2 5 5 6 0 2 8 3 3 0 1 1 3 8 2 5 6 2 8 3 9 4 9 2 7 3 1\n",
            " 9 3 3 5 2 9 4 5 7 4 6 7 8 7 3 2 1 8 6 3 6 5 2 2 6 0 0 1 7 7 8 9 6 2 0 9 5\n",
            " 0 7 0 9 8 5 2 6 7 6 4 9 8 2 1 1 1 6 2 2 1 1 4 0 2 3 1 4 3 1 9 5 0 8 8 6 6\n",
            " 7 5 4 2 2 0 3 2 3 0 1 6 8 8 7 6 0 4 7 3 9 0 9 2 5 4 1 4 2 9 3 9 8 1 7 5 9\n",
            " 1 9 3 8 8 0 0 3 7 9 9 1 1 4 0 6 9 3 3 7 4 4 5 3 9 7 5 4 4 9 3 4 4 9 0 2 2\n",
            " 8 1 6 5 7 0 5 8 2 7 2 1 0 9 2 1 7 9 4 2 2 7 6 7 8 0 3 2 8 7 0 6 0 3 7 6 7\n",
            " 9 4 1 4 9 5 6 8 9 3 8 8 0 9 7 1 0 3 0 2 7 6 5 2 6 6 7 5 6 4 1 9 0 8 4 4 5\n",
            " 3 2 9 7 2 3 9 0 9 6 9 6 7 5 1 4 1 2 7 8 5 4 3 5 4 0 0 1 7 6 3 2 7 0 5 7 4\n",
            " 7 7 4 0 5 5 4 5 6 8 5 1 7 0 3 9 1 4 3 7 2 7 9 4 9 2 7 2 9 7 1 2 5 5 3 7 3\n",
            " 5 1 2 6 6 2 7 3 3 2 6 7 2 7 1 0 4 2 7 9 5 9 6 5 0 4 3 1 0 6 6 1 9 0 9 0 3\n",
            " 8 1 9 3 9 2 9 2 5 3 6 2 0 0 7 9 5 7 0 0 1 9 9 2 9 9 5 9 1 0 7 5 4 1 8 1 3\n",
            " 8 4 6 2 8 2 2 3 4 1 9 8 4 9 4 6 9 2 6 4 6 9 7 2 5 7 2 6 9 6 6 4 6 9 5 3 9\n",
            " 2 4 4 1 7 2 6 9 6 5 1 8 7 3 6 4 5 8 1 1 2 7 6 1 3 1 5 9 0 8 6 7 0 8 2 4 0\n",
            " 8 4 9 5 0 7 5 0 0 6 4 6 7 0 5 3 8 0 7 3 8 7 6 6 0 8 9 1 1 2 8 1 4 2 7 2 3\n",
            " 1 2 5 0 0 0 1 2 8 6 8 2 4 2 2 1 5 7 7 1 6 9 1 4 3 7 9 4 3 0 8 4 6 4 5 4 0\n",
            " 3 0 2 8 9 2 9 7 4 3 6 8 2 2 6 8 8 3 5 4 5 5 8 1 5 8 1 9 9 9 2 4 9 9 4 0 4\n",
            " 6 8 1 7 7 8 9 6 5 9 8 9 8 4 7 3 1 3 9 8 3 6 0 1 9 2 8 9 5 2 2 0 4 9 8 7 9\n",
            " 9] [0 6 6 4 4 1 9 9 6 5 6 0 1 6 0 2 8 3 5 3 9 5 0 7 3 9 9 5 2 3 3 5 0 9 3 5 7\n",
            " 7 2 7 2 1 9 8 5 1 1 2 2 4 3 8 6 9 3 2 4 7 7 7 7 4 1 5 4 3 2 6 9 6 1 5 7 6\n",
            " 8 9 4 7 1 1 9 5 1 5 7 7 8 6 0 7 5 6 8 3 1 4 4 5 8 7 1 3 0 3 8 9 8 9 5 5 0\n",
            " 6 8 8 8 4 6 0 8 7 4 9 5 8 0 7 6 4 5 7 3 0 4 6 1 9 0 7 7 2 1 0 6 6 5 1 7 2\n",
            " 0 9 1 7 0 3 4 0 5 9 0 9 4 9 2 2 4 2 6 4 6 5 6 1 1 6 5 4 7 8 0 9 6 2 6 4 1\n",
            " 1 3 9 2 6 4 3 7 8 6 4 0 1 3 6 4 5 2 1 9 1 4 3 6 8 9 2 8 7 3 1 0 2 3 4 7 1\n",
            " 5 7 9 4 2 3 3 5 0 5 1 9 5 0 6 6 3 4 2 1 9 3 8 6 0 3 6 1 2 2 8 8 8 0 6 9 7\n",
            " 0 5 0 4 3 2 6 2 9 1 0 6 3 8 8 4 1 7 3 0 8 2 3 6 3 1 1 6 7 3 9 6 3 4 3 7 6\n",
            " 7 5 6 2 4 0 5 7 8 2 1 6 0 7 5 6 4 9 8 2 7 7 5 4 5 4 7 6 2 5 0 6 8 8 1 1 4\n",
            " 5 9 0 8 7 0 1 1 1 7 5 7 1 5 7 9 4 1 8 7 9 4 4 2 0 4 5 2 8 2 0 5 9 1 3 9 7\n",
            " 1 0 7 9 0 9 7 1 4 0 2 5 5 6 0 2 8 3 3 0 1 1 3 8 0 5 6 2 8 3 4 4 9 2 7 3 1\n",
            " 9 3 3 5 2 8 4 5 7 4 6 7 8 7 3 2 1 8 6 3 6 5 5 2 6 0 0 1 7 7 8 9 5 2 4 9 0\n",
            " 0 7 0 9 8 5 2 6 7 6 4 9 5 2 1 1 1 6 2 3 1 3 4 0 9 3 1 4 3 1 9 5 0 5 8 6 6\n",
            " 7 5 9 3 2 0 3 2 3 0 1 6 8 8 7 6 0 4 0 3 9 0 4 2 5 4 1 4 2 9 3 9 8 1 7 5 9\n",
            " 1 5 3 8 9 0 0 3 9 9 4 1 1 4 0 6 9 3 3 7 4 4 5 8 4 7 3 4 4 9 8 4 4 3 0 2 2\n",
            " 8 1 6 8 7 0 7 9 2 7 2 1 0 9 2 1 7 4 4 2 2 7 6 7 8 0 3 2 0 7 0 6 0 3 7 6 5\n",
            " 9 4 1 4 9 8 6 8 9 3 8 8 6 9 7 1 0 3 0 2 7 6 5 2 6 6 7 5 6 4 1 9 0 8 4 4 5\n",
            " 3 2 9 7 2 3 9 0 9 6 9 6 7 5 1 4 1 9 7 8 5 4 3 0 5 0 7 1 7 6 3 2 9 0 5 7 4\n",
            " 7 7 4 0 5 5 7 2 6 8 5 1 7 0 3 3 1 9 3 7 6 7 9 4 4 2 7 2 9 7 1 2 5 1 3 5 3\n",
            " 5 1 7 6 6 2 7 1 3 5 6 7 2 7 1 0 4 2 7 9 5 9 6 5 2 9 3 1 0 3 6 1 9 0 9 0 5\n",
            " 8 1 9 3 9 2 9 3 5 3 6 2 0 0 7 9 5 7 0 0 1 9 9 2 9 9 6 9 1 0 7 5 4 1 8 1 3\n",
            " 8 4 6 2 8 2 1 3 4 1 3 8 4 9 4 6 9 2 6 5 5 4 7 2 5 7 2 4 9 6 6 4 6 9 0 5 9\n",
            " 2 4 4 1 7 2 6 9 6 5 1 2 7 3 6 4 5 8 1 1 2 7 6 1 3 1 1 7 0 8 6 8 0 8 2 4 0\n",
            " 8 4 4 5 0 7 5 0 0 6 4 6 7 0 7 4 8 0 7 3 8 7 6 6 0 8 9 1 1 2 8 1 4 2 7 2 3\n",
            " 1 2 5 0 0 0 1 9 8 6 8 2 4 2 2 1 3 8 7 1 6 8 1 4 3 7 9 4 3 0 8 4 6 4 5 4 0\n",
            " 3 0 2 8 9 2 4 7 4 3 6 9 2 2 6 1 8 3 5 7 5 5 2 1 5 8 1 9 9 2 2 4 4 9 4 0 4\n",
            " 6 9 1 7 7 8 8 6 5 4 8 4 3 4 7 3 1 3 9 9 1 4 0 1 9 2 8 9 5 2 2 0 4 9 8 7 9\n",
            " 4]\n"
          ]
        },
        {
          "output_type": "execute_result",
          "data": {
            "text/plain": [
              "0.844"
            ]
          },
          "metadata": {},
          "execution_count": 10
        }
      ]
    },
    {
      "cell_type": "code",
      "source": [],
      "metadata": {
        "id": "mGg_52yiiynC"
      },
      "execution_count": null,
      "outputs": []
    }
  ]
}